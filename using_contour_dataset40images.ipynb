{
  "nbformat": 4,
  "nbformat_minor": 0,
  "metadata": {
    "colab": {
      "name": "Untitled10.ipynb",
      "provenance": [],
      "authorship_tag": "ABX9TyP9YWAFZSG10J3TP/2ESAWw",
      "include_colab_link": true
    },
    "kernelspec": {
      "name": "python3",
      "display_name": "Python 3"
    }
  },
  "cells": [
    {
      "cell_type": "markdown",
      "metadata": {
        "id": "view-in-github",
        "colab_type": "text"
      },
      "source": [
        "<a href=\"https://colab.research.google.com/github/datbrowndude/fcrossed/blob/main/using_contour_dataset40images.ipynb\" target=\"_parent\"><img src=\"https://colab.research.google.com/assets/colab-badge.svg\" alt=\"Open In Colab\"/></a>"
      ]
    },
    {
      "cell_type": "code",
      "metadata": {
        "id": "caBl-ni4B9ja"
      },
      "source": [
        "from pathlib import Path\n",
        "import matplotlib.pyplot as plt\n",
        "import numpy as np\n",
        "%matplotlib notebook\n",
        "from sklearn import svm, metrics, datasets\n",
        "from sklearn.utils import Bunch\n",
        "from sklearn.model_selection import GridSearchCV, train_test_split\n",
        "\n",
        "from skimage.io import imread\n",
        "from skimage.transform import resize"
      ],
      "execution_count": 1,
      "outputs": []
    },
    {
      "cell_type": "code",
      "metadata": {
        "id": "wgVFh_DBCc_F"
      },
      "source": [
        "#1. resize    2. flatten\n",
        "import os\n",
        "target=[]\n",
        "imagess=[]\n",
        "flat_data=[]\n",
        "\n",
        "DATADIR='/content/dataset'\n",
        "CATEGORIES=['benign','malign']\n",
        "for category in CATEGORIES:\n",
        " class_num =CATEGORIES.index(category)  \n",
        " path=os.path.join(DATADIR,category)  #path created to use images\n",
        " for img in os.listdir(path):\n",
        "   img_array=imread(os.path.join(path,img))\n",
        "   #print(img_array)\n",
        "   #plt.imshow(img_array)\n",
        "   img_resized=resize(img_array,(150,150,3)) #normalises intensity values from 0 to 1\n",
        "   flat_data.append(img_resized.flatten())\n",
        "   imagess.append(img_resized)\n",
        "   target.append(class_num)\n",
        "\n",
        "flat_data=np.array(flat_data)\n",
        "target=np.array(target)\n",
        "imagess=np.array(imagess)"
      ],
      "execution_count": 4,
      "outputs": []
    },
    {
      "cell_type": "code",
      "metadata": {
        "id": "nFvJ6Q_6CpK3"
      },
      "source": [
        "X_train, X_test, y_train, y_test = train_test_split(\n",
        "    flat_data,target, test_size=0.3,random_state=109)"
      ],
      "execution_count": 5,
      "outputs": []
    },
    {
      "cell_type": "code",
      "metadata": {
        "id": "vEZzI2wrCsU3",
        "outputId": "425be704-d106-4d28-c453-9df33d1c4cfe",
        "colab": {
          "base_uri": "https://localhost:8080/"
        }
      },
      "source": [
        "param_grid = [\n",
        "  {'C': [1, 10, 100, 1000], 'kernel': ['linear']},\n",
        "  {'C': [1, 10, 100, 1000], 'gamma': [0.001, 0.0001], 'kernel': ['rbf','poly']},\n",
        " ]\n",
        "svc = svm.SVC()\n",
        "clf = GridSearchCV(svc, param_grid)\n",
        "clf.fit(X_train, y_train)"
      ],
      "execution_count": 6,
      "outputs": [
        {
          "output_type": "execute_result",
          "data": {
            "text/plain": [
              "GridSearchCV(cv=None, error_score=nan,\n",
              "             estimator=SVC(C=1.0, break_ties=False, cache_size=200,\n",
              "                           class_weight=None, coef0=0.0,\n",
              "                           decision_function_shape='ovr', degree=3,\n",
              "                           gamma='scale', kernel='rbf', max_iter=-1,\n",
              "                           probability=False, random_state=None, shrinking=True,\n",
              "                           tol=0.001, verbose=False),\n",
              "             iid='deprecated', n_jobs=None,\n",
              "             param_grid=[{'C': [1, 10, 100, 1000], 'kernel': ['linear']},\n",
              "                         {'C': [1, 10, 100, 1000], 'gamma': [0.001, 0.0001],\n",
              "                          'kernel': ['rbf', 'poly']}],\n",
              "             pre_dispatch='2*n_jobs', refit=True, return_train_score=False,\n",
              "             scoring=None, verbose=0)"
            ]
          },
          "metadata": {
            "tags": []
          },
          "execution_count": 6
        }
      ]
    },
    {
      "cell_type": "code",
      "metadata": {
        "id": "C35R_DznC20q"
      },
      "source": [
        "\n",
        "y_pred = clf.predict(X_test)"
      ],
      "execution_count": 7,
      "outputs": []
    },
    {
      "cell_type": "code",
      "metadata": {
        "id": "4pjwq2ffC5e4",
        "outputId": "ac550e21-6c78-4f5e-e38a-c931644eddb8",
        "colab": {
          "base_uri": "https://localhost:8080/"
        }
      },
      "source": [
        "print(\"Classification report for - \\n{}:\\n{}\\n\".format(\n",
        "    clf, metrics.classification_report(y_test, y_pred)))"
      ],
      "execution_count": 8,
      "outputs": [
        {
          "output_type": "stream",
          "text": [
            "Classification report for - \n",
            "GridSearchCV(cv=None, error_score=nan,\n",
            "             estimator=SVC(C=1.0, break_ties=False, cache_size=200,\n",
            "                           class_weight=None, coef0=0.0,\n",
            "                           decision_function_shape='ovr', degree=3,\n",
            "                           gamma='scale', kernel='rbf', max_iter=-1,\n",
            "                           probability=False, random_state=None, shrinking=True,\n",
            "                           tol=0.001, verbose=False),\n",
            "             iid='deprecated', n_jobs=None,\n",
            "             param_grid=[{'C': [1, 10, 100, 1000], 'kernel': ['linear']},\n",
            "                         {'C': [1, 10, 100, 1000], 'gamma': [0.001, 0.0001],\n",
            "                          'kernel': ['rbf', 'poly']}],\n",
            "             pre_dispatch='2*n_jobs', refit=True, return_train_score=False,\n",
            "             scoring=None, verbose=0):\n",
            "              precision    recall  f1-score   support\n",
            "\n",
            "           0       0.83      0.83      0.83         6\n",
            "           1       0.83      0.83      0.83         6\n",
            "\n",
            "    accuracy                           0.83        12\n",
            "   macro avg       0.83      0.83      0.83        12\n",
            "weighted avg       0.83      0.83      0.83        12\n",
            "\n",
            "\n"
          ],
          "name": "stdout"
        }
      ]
    },
    {
      "cell_type": "code",
      "metadata": {
        "id": "S7qwHTxEC81Y"
      },
      "source": [
        "from sklearn.metrics import accuracy_score,confusion_matrix"
      ],
      "execution_count": 9,
      "outputs": []
    },
    {
      "cell_type": "code",
      "metadata": {
        "id": "MjwQI55qDBHh",
        "outputId": "02ff289e-adad-4682-c8f1-29764faef4d9",
        "colab": {
          "base_uri": "https://localhost:8080/"
        }
      },
      "source": [
        "accuracy_score(y_pred,y_test)"
      ],
      "execution_count": 10,
      "outputs": [
        {
          "output_type": "execute_result",
          "data": {
            "text/plain": [
              "0.8333333333333334"
            ]
          },
          "metadata": {
            "tags": []
          },
          "execution_count": 10
        }
      ]
    },
    {
      "cell_type": "code",
      "metadata": {
        "id": "D2xlOC7TDCli",
        "outputId": "c58a34ef-0faf-440b-99bc-fd9c20789d2a",
        "colab": {
          "base_uri": "https://localhost:8080/"
        }
      },
      "source": [
        "confusion_matrix(y_pred,y_test)"
      ],
      "execution_count": 11,
      "outputs": [
        {
          "output_type": "execute_result",
          "data": {
            "text/plain": [
              "array([[5, 1],\n",
              "       [1, 5]])"
            ]
          },
          "metadata": {
            "tags": []
          },
          "execution_count": 11
        }
      ]
    }
  ]
}